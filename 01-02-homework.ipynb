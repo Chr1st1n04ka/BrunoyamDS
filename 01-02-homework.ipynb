{
 "cells": [
  {
   "cell_type": "markdown",
   "id": "62f69b25",
   "metadata": {},
   "source": [
    "# Дано пять чисел, каждое число вводится в консоли в отдельной строке. Вывести на экран наименьшее из них."
   ]
  },
  {
   "cell_type": "code",
   "execution_count": null,
   "id": "def54f14",
   "metadata": {
    "scrolled": true
   },
   "outputs": [],
   "source": [
    "num1 = int(input())\n",
    "num2 = int(input())\n",
    "num3 = int(input())\n",
    "num4 = int(input())\n",
    "num5 = int(input())\n",
    "\n",
    "num_min = num1\n",
    "\n",
    "if num2 < num_min:\n",
    "    num_min=num2\n",
    "if num3 < num_min:\n",
    "    num_min=num3\n",
    "if num4 < num_min:\n",
    "    num_min=num4\n",
    "if num5 < num_min:\n",
    "    num_min=num5\n",
    "    \n",
    "print(f\"Наименьшее число: {num_min}\" )             \n"
   ]
  },
  {
   "cell_type": "markdown",
   "id": "b571b3f3",
   "metadata": {},
   "source": [
    "# 3443. Вычислите 2^179. Выведите на экран вычисленное значение."
   ]
  },
  {
   "cell_type": "code",
   "execution_count": null,
   "id": "78e9a993",
   "metadata": {},
   "outputs": [],
   "source": [
    "task1 = 2**179\n",
    "print(task1)"
   ]
  },
  {
   "cell_type": "markdown",
   "id": "859531b8",
   "metadata": {},
   "source": [
    "# 3445. Вычислите длину гипотенузы в прямоугольном треугольнике со сторонами 179 и 971."
   ]
  },
  {
   "cell_type": "code",
   "execution_count": null,
   "id": "21a361f5",
   "metadata": {},
   "outputs": [],
   "source": [
    "import math"
   ]
  },
  {
   "cell_type": "code",
   "execution_count": null,
   "id": "1fc75aa0",
   "metadata": {},
   "outputs": [],
   "source": [
    "a = 179\n",
    "b = 971\n",
    "\n",
    "task2 = math.sqrt(a**2 + b**2)\n",
    "\n",
    "print(task2)"
   ]
  },
  {
   "cell_type": "markdown",
   "id": "a4484f8a",
   "metadata": {},
   "source": [
    "# 3455. Дано два числа a и b. Выведите гипотенузу треугольника с заданными катетами.\n",
    "Входные данные:\n",
    "Вводятся два целых положительных числа, не превышающих 1000.\n",
    "\n",
    "Выходные данные:\n",
    "Выведите ответ на задачу с точностью 10 знаков после запятой"
   ]
  },
  {
   "cell_type": "code",
   "execution_count": null,
   "id": "e60371b2",
   "metadata": {
    "scrolled": true
   },
   "outputs": [],
   "source": [
    "a = int(input())\n",
    "\n",
    "if a < 1000:\n",
    "    b = int(input())\n",
    "    if b < 1000:\n",
    "        task3 = math.sqrt(a**2 + b**2)\n",
    "        print(\"%.10f\" % task3)\n",
    "    else:\n",
    "        print(\"Ошибка: число не должно превышать 1000\")\n",
    "else:\n",
    "    print(\"Ошибка: число не должно превышать 1000\")"
   ]
  },
  {
   "cell_type": "markdown",
   "id": "f1c4a723",
   "metadata": {},
   "source": [
    "# Задача №3456. Hello, Harry!\n",
    "\n",
    "Напишите программу, которая приветствует пользователя, выводя слово Hello, введенное имя и знаки препинания по образцу (см. пример входных и выходных данных). Программа должна считывать в строковую переменную значение и писать соответствующее приветствие. Обратите внимание, что после запятой должен обязательно стоять пробел, а перед восклицательным знаком пробела нет.\n",
    "\n",
    "Входные данные:\n",
    "Вводится строка, длина которой не превышает 100 символов.\n",
    "\n",
    "Выходные данные:\n",
    "Выведите ответ на задачу."
   ]
  },
  {
   "cell_type": "code",
   "execution_count": 24,
   "id": "11296e33",
   "metadata": {
    "scrolled": true
   },
   "outputs": [
    {
     "name": "stdout",
     "output_type": "stream",
     "text": [
      "оооооооооооооооооооооооооооооооооооооооооооооооооооооооооооооооооооооооооооооооооооооооооооооооооооооооооооооооооооооооооооооооооооооооооооооооооооооооооооооооооооооооооооооооооооооооооооооооооооооооооооооооооооооооооооооооооооооооооооооооооооооооооооооооооооооооооооооооооооооооооооооооооооооооооооооооооо\n",
      "Ошибка: длина строки не должна превышать 100\n"
     ]
    }
   ],
   "source": [
    "a = input()\n",
    "\n",
    "if len(a) < 100:\n",
    "    print(f\"Hello, {a}\")\n",
    "else:\n",
    "    print(\"Ошибка: длина строки не должна превышать 100\")\n",
    "\n"
   ]
  },
  {
   "cell_type": "markdown",
   "id": "33e4b303",
   "metadata": {},
   "source": [
    "# Задача №3502. Какое число больше?\n",
    "Даны два целых числа. Программа должна вывести число 1, если первое число больше второго, число 2, если второе больше первого или число 0, если они равны.\n",
    "\n",
    "Входные данные:\n",
    "Вводятся два целых числа.\n",
    "\n",
    "Выходные данные:\n",
    "Выведите ответ на задачу.\n",
    "\n",
    "Примечание:\n",
    "Эту задачу желательно решить с использованием каскадных инструкций if... elif... else."
   ]
  },
  {
   "cell_type": "code",
   "execution_count": 30,
   "id": "96e68c38",
   "metadata": {},
   "outputs": [
    {
     "name": "stdout",
     "output_type": "stream",
     "text": [
      "233\n",
      "2\n",
      "233\n"
     ]
    }
   ],
   "source": [
    "num1 = int(input())\n",
    "num2 = int(input())\n",
    "\n",
    "\n",
    "if num2 < num1:\n",
    "    print(num1)\n",
    "elif num2 > num1:\n",
    "    print(num2)\n",
    "else: \n",
    "    print(0)"
   ]
  },
  {
   "cell_type": "markdown",
   "id": "3c058edb",
   "metadata": {},
   "source": [
    "# Задача №3503. Знак числа\n",
    "В математике функция sign(x) (знак числа) определена так:  \n",
    "sign(x) = 1,   если x > 0,  \n",
    "sign(x) = -1, если x < 0,  \n",
    "sign(x) = 0,   если x = 0.  \n",
    "\n",
    "Для данного числа x выведите значение sign(x).  \n",
    "\n",
    "Входные данные:  \n",
    "Вводится одно целое число.  \n",
    "\n",
    "Выходные данные:  \n",
    "Выведите ответ на задачу.  \n",
    "\n",
    "Примечание:  \n",
    "Эту задачу желательно решить с использованием каскадных инструкций if... elif... else."
   ]
  },
  {
   "cell_type": "code",
   "execution_count": 33,
   "id": "5003620c",
   "metadata": {},
   "outputs": [
    {
     "name": "stdout",
     "output_type": "stream",
     "text": [
      "0\n",
      "sign(0) = 0\n"
     ]
    }
   ],
   "source": [
    "x = int(input())\n",
    "\n",
    "if x>0:\n",
    "    sign=1\n",
    "elif x<0:\n",
    "    sign=-1\n",
    "else:\n",
    "    sign=0\n",
    "    \n",
    "print(f\"sign({x}) = {sign}\")"
   ]
  },
  {
   "cell_type": "markdown",
   "id": "6a63b69b",
   "metadata": {},
   "source": [
    "# Задача №3735. Делаем срезы\n",
    "На языке программирование Python нельзя использовать циклы.  \n",
    "Входные данные  \n",
    "Дана строка.  \n",
    "\n",
    "Выходные данные  \n",
    "Сначала выведите третий символ этой строки.  \n",
    "\n",
    "Во второй строке выведите предпоследний символ этой строки.  \n",
    "\n",
    "В третьей строке выведите первые пять символов этой строки.  \n",
    "\n",
    "В четвертой строке выведите всю строку, кроме последних двух символов.  \n",
    "\n",
    "В пятой строке выведите все символы с четными индексами (считая, что индексация начинается с 0, поэтому символы выводятся начиная с первого).  \n",
    "\n",
    "В шестой строке выведите все символы с нечетными индексами, то есть начиная со второго символа строки.  \n",
    "\n",
    "В седьмой строке выведите все символы в обратном порядке.  \n",
    "\n",
    "В восьмой строке выведите все символы строки через один в обратном порядке, начиная с последнего.  \n",
    "\n",
    "В девятой строке выведите длину данной строки.  "
   ]
  },
  {
   "cell_type": "code",
   "execution_count": 53,
   "id": "d1581bd8",
   "metadata": {},
   "outputs": [
    {
     "name": "stdout",
     "output_type": "stream",
     "text": [
      "[fpg[pdgpfd\n",
      "p\n",
      "f\n",
      "[fpg[\n",
      "[fpg[pdgp\n",
      "[p[dpd\n",
      "fgpgf\n",
      "dfpgdp[gpf[\n",
      "dpd[p[\n",
      "11\n"
     ]
    }
   ],
   "source": [
    "a = input()\n",
    "\n",
    "print(a[2])\n",
    "print(a[-2])\n",
    "print(a[:5])\n",
    "print(a[0:-2])\n",
    "print(a[:: 2])\n",
    "print(a[1::2])\n",
    "print(a[::-1])\n",
    "print(a[::-2])\n",
    "print(len(a))"
   ]
  },
  {
   "cell_type": "markdown",
   "id": "c41e792d",
   "metadata": {},
   "source": [
    "# Задача №3736. Количество слов\n",
    "Дана строка, состоящая из слов, разделенных ровно одним пробелом. Определите, сколько в ней слов. Используйте для решения задачи метод count.  \n",
    "\n",
    "Входные данные  \n",
    "Вводится строка.  \n",
    "\n",
    "Выходные данные  \n",
    "Выведите ответ на задачу.  "
   ]
  },
  {
   "cell_type": "code",
   "execution_count": 57,
   "id": "e8585f3b",
   "metadata": {},
   "outputs": [
    {
     "name": "stdout",
     "output_type": "stream",
     "text": [
      "gfgf dfgdf sfsf fssfd \n",
      "4\n"
     ]
    }
   ],
   "source": [
    "a = input()\n",
    "\n",
    "lst = list( a.split())\n",
    "print (len(lst))"
   ]
  },
  {
   "cell_type": "markdown",
   "id": "b26e3b32",
   "metadata": {},
   "source": [
    "# Задача №111300. ASCII-код символа\n",
    "Считайте со стандартного ввода символ и выведите его код.  \n",
    "\n",
    "Входные данные  \n",
    "Программа получает на вход один символ с кодом от 33 до 126.  \n",
    "\n",
    "Выходные данные  \n",
    "Нужно вывести одно число - код считанного символа"
   ]
  },
  {
   "cell_type": "code",
   "execution_count": 69,
   "id": "401f7489",
   "metadata": {},
   "outputs": [
    {
     "name": "stdout",
     "output_type": "stream",
     "text": [
      "ф\n",
      "Код символа не входит в данный диапазон: от 33 до 126.\n"
     ]
    }
   ],
   "source": [
    "a = input()\n",
    "if ord(a)>=33 and ord(a)<=126:\n",
    "    print(ord(a))\n",
    "else:\n",
    "    print(\"Код символа не входит в данный диапазон: от 33 до 126.\")"
   ]
  },
  {
   "cell_type": "markdown",
   "id": "98984250",
   "metadata": {},
   "source": [
    "# Задача №111301. Символ с данным ASCII-кодом\n",
    "Считайте со стандартного ввода целое число и выведите ASCII-символ с таким кодом. Решите эту задачу с использованием только одной переменной типа int.  \n",
    "\n",
    "Входные данные  \n",
    "Программа получает на вход число от 33 до 126.  \n",
    "\n",
    "Выходные данные  \n",
    "Нужно вывести символ, который имеет введенный код  "
   ]
  },
  {
   "cell_type": "code",
   "execution_count": 71,
   "id": "4208c36f",
   "metadata": {},
   "outputs": [
    {
     "name": "stdout",
     "output_type": "stream",
     "text": [
      "33\n",
      "!\n"
     ]
    }
   ],
   "source": [
    "a = int(input())\n",
    "if a>=33 and a<=126:\n",
    "    print(chr(a))\n",
    "else:\n",
    "    print(\"Введите значение в следующем диапазоне: от 33 до 126.\")"
   ]
  },
  {
   "cell_type": "markdown",
   "id": "e9002c1d",
   "metadata": {},
   "source": [
    "# Задача №111318. Поиск подстроки\n",
    "Даны две строки, возможно, содержащие пробелы. Выведите слово YES, если первая строка является подстрокой второй строки или слово NO в противном случае.  \n",
    "\n",
    "Решение оформите в виде функции IsSubstring(Pattern, Source).  \n",
    "\n",
    "Ввод  \n",
    "hole in the ground  \n",
    "In a hole in the ground there lived a hobbit.  \n",
    "Вывод  \n",
    "YES  \n",
    "\n",
    "Ввод  \n",
    "hole on the ground  \n",
    "In a hole in the ground there lived a hobbit.  \n",
    "Вывод  \n",
    "NO  \n"
   ]
  },
  {
   "cell_type": "code",
   "execution_count": 76,
   "id": "f8ae9d20",
   "metadata": {},
   "outputs": [
    {
     "name": "stdout",
     "output_type": "stream",
     "text": [
      "hole on the ground\n",
      "In a hole in the ground there lived a hobbit.\n",
      "NO\n"
     ]
    }
   ],
   "source": [
    "def IsSubstring(str1, str2):\n",
    "    if str2.find(str1) == -1:\n",
    "        return \"NO\"\n",
    "    else:\n",
    "        return \"YES\"\n",
    "\n",
    "str1 = input()\n",
    "str2 = input()\n",
    "\n",
    "result = IsSubstring(str1, str2)\n",
    "print(result)\n",
    "\n",
    "\n"
   ]
  },
  {
   "cell_type": "code",
   "execution_count": null,
   "id": "8d557c46",
   "metadata": {},
   "outputs": [],
   "source": []
  }
 ],
 "metadata": {
  "kernelspec": {
   "display_name": "Python 3 (ipykernel)",
   "language": "python",
   "name": "python3"
  },
  "language_info": {
   "codemirror_mode": {
    "name": "ipython",
    "version": 3
   },
   "file_extension": ".py",
   "mimetype": "text/x-python",
   "name": "python",
   "nbconvert_exporter": "python",
   "pygments_lexer": "ipython3",
   "version": "3.9.13"
  }
 },
 "nbformat": 4,
 "nbformat_minor": 5
}
