{
 "cells": [
  {
   "cell_type": "markdown",
   "id": "adf79acb",
   "metadata": {},
   "source": [
    "# Задача №334. Остаток\n",
    "\n",
    "Входные данные  \n",
    "Вводятся 4 числа: a, b, c и d. \n",
    "\n",
    "Выходные данные  \n",
    "Выведите все числа на отрезке от a до b, дающие остаток c при делении на d. Если таких чисел не существует, то ничего выводить не нужно."
   ]
  },
  {
   "cell_type": "code",
   "execution_count": 14,
   "id": "4df21dee",
   "metadata": {},
   "outputs": [
    {
     "name": "stdout",
     "output_type": "stream",
     "text": [
      "2\n",
      "5\n",
      "0\n",
      "2\n",
      "[2, 3, 4, 5]\n",
      "2\n",
      "4\n"
     ]
    }
   ],
   "source": [
    "a = int(input())\n",
    "b = int(input())\n",
    "c = int(input())\n",
    "d = int(input())\n",
    "\n",
    "lst = list(range(a,b+1,1))\n",
    "\n",
    "for element in lst:\n",
    "    if element % d == c:\n",
    "        print(element) \n",
    "    "
   ]
  },
  {
   "cell_type": "markdown",
   "id": "fb415ed9",
   "metadata": {},
   "source": [
    "# Задача №3642. Список квадратов\n",
    "По данному целому числу N распечатайте все квадраты натуральных чисел, не превосходящие N, в порядке возрастания.\n"
   ]
  },
  {
   "cell_type": "code",
   "execution_count": null,
   "id": "73b396e0",
   "metadata": {},
   "outputs": [],
   "source": [
    "import math"
   ]
  },
  {
   "cell_type": "code",
   "execution_count": 13,
   "id": "2668637a",
   "metadata": {},
   "outputs": [
    {
     "name": "stdout",
     "output_type": "stream",
     "text": [
      "50\n",
      "1\n",
      "4\n",
      "9\n",
      "16\n",
      "25\n",
      "36\n",
      "49\n"
     ]
    }
   ],
   "source": [
    "N = int(input())\n",
    "count = 1\n",
    "while count < N:\n",
    "    if count % math.sqrt(count) == 0:\n",
    "        print(count)\n",
    "    count += 1"
   ]
  },
  {
   "cell_type": "markdown",
   "id": "38825d37",
   "metadata": {},
   "source": [
    "# Задача №3644. Список степеней двойки\n",
    "По данному числу N распечатайте все целые степени двойки, не превосходящие N, в порядке возрастания."
   ]
  },
  {
   "cell_type": "code",
   "execution_count": 17,
   "id": "dbea6640",
   "metadata": {},
   "outputs": [
    {
     "name": "stdout",
     "output_type": "stream",
     "text": [
      "50\n",
      "1\n",
      "2\n",
      "4\n",
      "8\n",
      "16\n",
      "32\n"
     ]
    }
   ],
   "source": [
    "N = int(input())\n",
    "count = 1\n",
    "while count < N:\n",
    "    print(count)\n",
    "    count = count*2"
   ]
  },
  {
   "cell_type": "markdown",
   "id": "3187d5d9",
   "metadata": {},
   "source": [
    "# Задача №3647. Утренняя пробежка\n",
    "В первый день спортсмен пробежал x\n",
    " километров, а затем он каждый день увеличивал пробег на 10% от предыдущего значения. По данному числу y\n",
    " определите номер дня, на который пробег спортсмена составит не менее y\n",
    " километров.\n",
    "\n",
    "Входные данные  \n",
    "Программа получает на вход действительные числа x\n",
    " и y\n",
    "\n",
    "Выходные данные  \n",
    "Программа должна вывести одно натуральное число."
   ]
  },
  {
   "cell_type": "code",
   "execution_count": 25,
   "id": "6d903478",
   "metadata": {},
   "outputs": [
    {
     "name": "stdout",
     "output_type": "stream",
     "text": [
      "10\n",
      "20\n",
      "9\n"
     ]
    }
   ],
   "source": [
    "x = int(input())\n",
    "y = int(input())\n",
    "\n",
    "day = 1\n",
    "while x <= y:\n",
    "    x = x * 1.1\n",
    "    day+=1\n",
    "    \n",
    "print(day)     "
   ]
  },
  {
   "cell_type": "markdown",
   "id": "b961cdaf",
   "metadata": {},
   "source": [
    "# Задача №3533. Факториал\n",
    "По данному целому неотрицательному n вычислите значение n!.\n",
    "\n",
    "\n",
    "\n",
    "N! = 1 * 2 * 3 * … * N (произведение всех чисел от 1 до N)\n",
    "\n",
    "0! = 1"
   ]
  },
  {
   "cell_type": "code",
   "execution_count": 40,
   "id": "dae42fb9",
   "metadata": {},
   "outputs": [
    {
     "name": "stdout",
     "output_type": "stream",
     "text": [
      "-1\n",
      "1\n"
     ]
    }
   ],
   "source": [
    "N = int(input())\n",
    "count = 1\n",
    "factorial = 1\n",
    "\n",
    "while count <= N:\n",
    "    factorial = factorial * count\n",
    "    count += 1\n",
    "    \n",
    "print(factorial)"
   ]
  },
  {
   "cell_type": "markdown",
   "id": "457e0f15",
   "metadata": {},
   "source": [
    "# Задача №3535. Пингвины\n",
    "Напишите программу, которая по данному числу n от 1 до 9 выводит на экран n пингвинов. Изображение одного пингвина имеет размер 5×9 символов, между двумя соседними пингвинами также имеется пустой (из пробелов) столбец. Разрешается вывести пустой столбец после последнего пингвина. Для упрощения рисования скопируйте пингвина из примера в среду разработки.\n",
    "\n",
    "Входные данные  \n",
    "Вводится натуральное число.\n",
    "\n",
    "Выходные данные  \n",
    "Выведите ответ на задачу.\n",
    "\n",
    "Примечание\n",
    "Учтите, что вывод данных на экран производится построчно, а не попингвинно.\n",
    "\n",
    "В некоторых языках программирования символ обратного слэша “\\” в текстовых строках имеет специальное значение. Чтобы включить в состав текстовой строки такой символ, его нужно повторить дважды. Например, для вывода на экран одного такого символа можно использовать такой код: print(\"\\\\\")."
   ]
  },
  {
   "cell_type": "code",
   "execution_count": 46,
   "id": "45536de9",
   "metadata": {},
   "outputs": [
    {
     "name": "stdout",
     "output_type": "stream",
     "text": [
      "3\n",
      "   _~_      _~_      _~_   \n",
      "  (o o)    (o o)    (o o)  \n",
      " /  V  \\  /  V  \\  /  V  \\ \n",
      "/(  _  )\\/(  _  )\\/(  _  )\\\n",
      "  ^^ ^^    ^^ ^^    ^^ ^^  \n"
     ]
    }
   ],
   "source": [
    "N = int(input())\n",
    "\n",
    "print(\"   _~_   \" * N)\n",
    "print(\"  (o o)  \" * N)\n",
    "print(\" /  V  \\ \" * N)\n",
    "print(\"/(  _  )\\\\\" * N)\n",
    "print(\"  ^^ ^^  \" * N)\n"
   ]
  },
  {
   "cell_type": "code",
   "execution_count": null,
   "id": "98e67622",
   "metadata": {},
   "outputs": [],
   "source": []
  }
 ],
 "metadata": {
  "kernelspec": {
   "display_name": "Python 3 (ipykernel)",
   "language": "python",
   "name": "python3"
  },
  "language_info": {
   "codemirror_mode": {
    "name": "ipython",
    "version": 3
   },
   "file_extension": ".py",
   "mimetype": "text/x-python",
   "name": "python",
   "nbconvert_exporter": "python",
   "pygments_lexer": "ipython3",
   "version": "3.9.13"
  }
 },
 "nbformat": 4,
 "nbformat_minor": 5
}
